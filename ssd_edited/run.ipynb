{
 "cells": [
  {
   "cell_type": "code",
   "execution_count": 1,
   "id": "318e13df-7915-4f7c-a437-87127467bfc9",
   "metadata": {},
   "outputs": [
    {
     "name": "stdout",
     "output_type": "stream",
     "text": [
      "2\n",
      "cuda\n"
     ]
    },
    {
     "name": "stderr",
     "output_type": "stream",
     "text": [
      "/data/home/nelnyg22/deeplearn/lib/python3.9/site-packages/torchvision/models/_utils.py:208: UserWarning: The parameter 'pretrained' is deprecated since 0.13 and will be removed in 0.15, please use 'weights' instead.\n",
      "  warnings.warn(\n",
      "/data/home/nelnyg22/deeplearn/lib/python3.9/site-packages/torchvision/models/_utils.py:223: UserWarning: Arguments other than a weight enum or `None` for 'weights' are deprecated since 0.13 and will be removed in 0.15. The current behavior is equivalent to passing `weights=VGG16_Weights.IMAGENET1K_V1`. You can also use `weights=VGG16_Weights.DEFAULT` to get the most up-to-date weights.\n",
      "  warnings.warn(msg)\n"
     ]
    },
    {
     "name": "stdout",
     "output_type": "stream",
     "text": [
      "\n",
      "Loaded base model.\n",
      "\n"
     ]
    },
    {
     "name": "stderr",
     "output_type": "stream",
     "text": [
      "/data/home/nelnyg22/deeplearn/lib/python3.9/site-packages/torch/nn/_reduction.py:42: UserWarning: size_average and reduce args will be deprecated, please use reduction='none' instead.\n",
      "  warnings.warn(warning.format(ret))\n"
     ]
    },
    {
     "name": "stdout",
     "output_type": "stream",
     "text": [
      "Epoch: [0][0/34]\tBatch Time 3.204 (3.204)\tData Time 0.184 (0.184)\tLoss 1.3334 (1.3334)\t\n",
      "Epoch: [1][0/34]\tBatch Time 0.329 (0.329)\tData Time 0.187 (0.187)\tLoss 1.0337 (1.0337)\t\n",
      "Epoch: [2][0/34]\tBatch Time 0.324 (0.324)\tData Time 0.194 (0.194)\tLoss 0.8807 (0.8807)\t\n",
      "Epoch: [3][0/34]\tBatch Time 0.330 (0.330)\tData Time 0.198 (0.198)\tLoss 0.8055 (0.8055)\t\n",
      "Epoch: [4][0/34]\tBatch Time 0.355 (0.355)\tData Time 0.223 (0.223)\tLoss 0.8356 (0.8356)\t\n",
      "Epoch: [5][0/34]\tBatch Time 0.376 (0.376)\tData Time 0.245 (0.245)\tLoss 0.5629 (0.5629)\t\n",
      "Epoch: [6][0/34]\tBatch Time 0.362 (0.362)\tData Time 0.230 (0.230)\tLoss 0.6518 (0.6518)\t\n",
      "Epoch: [7][0/34]\tBatch Time 0.355 (0.355)\tData Time 0.221 (0.221)\tLoss 0.6742 (0.6742)\t\n",
      "Epoch: [8][0/34]\tBatch Time 0.348 (0.348)\tData Time 0.214 (0.214)\tLoss 0.5161 (0.5161)\t\n",
      "Epoch: [9][0/34]\tBatch Time 0.318 (0.318)\tData Time 0.184 (0.184)\tLoss 0.5971 (0.5971)\t\n",
      "Epoch: [10][0/34]\tBatch Time 0.358 (0.358)\tData Time 0.223 (0.223)\tLoss 0.4448 (0.4448)\t\n",
      "Epoch: [11][0/34]\tBatch Time 0.350 (0.350)\tData Time 0.222 (0.222)\tLoss 0.5476 (0.5476)\t\n",
      "Epoch: [12][0/34]\tBatch Time 0.366 (0.366)\tData Time 0.234 (0.234)\tLoss 0.5432 (0.5432)\t\n",
      "Epoch: [13][0/34]\tBatch Time 0.362 (0.362)\tData Time 0.229 (0.229)\tLoss 0.4835 (0.4835)\t\n",
      "Epoch: [14][0/34]\tBatch Time 0.373 (0.373)\tData Time 0.237 (0.237)\tLoss 0.4686 (0.4686)\t\n",
      "Epoch: [15][0/34]\tBatch Time 0.348 (0.348)\tData Time 0.216 (0.216)\tLoss 0.4000 (0.4000)\t\n",
      "Epoch: [16][0/34]\tBatch Time 0.361 (0.361)\tData Time 0.232 (0.232)\tLoss 0.5231 (0.5231)\t\n",
      "Epoch: [17][0/34]\tBatch Time 0.338 (0.338)\tData Time 0.199 (0.199)\tLoss 0.4755 (0.4755)\t\n",
      "Epoch: [18][0/34]\tBatch Time 0.351 (0.351)\tData Time 0.218 (0.218)\tLoss 0.3990 (0.3990)\t\n",
      "Epoch: [19][0/34]\tBatch Time 0.359 (0.359)\tData Time 0.224 (0.224)\tLoss 0.4581 (0.4581)\t\n",
      "Epoch: [20][0/34]\tBatch Time 0.360 (0.360)\tData Time 0.228 (0.228)\tLoss 0.3856 (0.3856)\t\n",
      "Epoch: [21][0/34]\tBatch Time 0.356 (0.356)\tData Time 0.222 (0.222)\tLoss 0.5665 (0.5665)\t\n",
      "Epoch: [22][0/34]\tBatch Time 0.330 (0.330)\tData Time 0.195 (0.195)\tLoss 0.4651 (0.4651)\t\n",
      "Epoch: [23][0/34]\tBatch Time 0.332 (0.332)\tData Time 0.195 (0.195)\tLoss 0.4309 (0.4309)\t\n",
      "Epoch: [24][0/34]\tBatch Time 0.402 (0.402)\tData Time 0.270 (0.270)\tLoss 0.3837 (0.3837)\t\n",
      "Epoch: [25][0/34]\tBatch Time 0.355 (0.355)\tData Time 0.225 (0.225)\tLoss 0.4628 (0.4628)\t\n",
      "Epoch: [26][0/34]\tBatch Time 0.358 (0.358)\tData Time 0.227 (0.227)\tLoss 0.2510 (0.2510)\t\n",
      "Epoch: [27][0/34]\tBatch Time 0.326 (0.326)\tData Time 0.193 (0.193)\tLoss 0.2728 (0.2728)\t\n",
      "Epoch: [28][0/34]\tBatch Time 0.343 (0.343)\tData Time 0.211 (0.211)\tLoss 0.3829 (0.3829)\t\n",
      "Epoch: [29][0/34]\tBatch Time 0.345 (0.345)\tData Time 0.213 (0.213)\tLoss 0.2672 (0.2672)\t\n",
      "Epoch: [30][0/34]\tBatch Time 0.350 (0.350)\tData Time 0.218 (0.218)\tLoss 0.2881 (0.2881)\t\n",
      "Epoch: [31][0/34]\tBatch Time 0.349 (0.349)\tData Time 0.216 (0.216)\tLoss 0.3406 (0.3406)\t\n",
      "Epoch: [32][0/34]\tBatch Time 0.372 (0.372)\tData Time 0.233 (0.233)\tLoss 0.2877 (0.2877)\t\n",
      "Epoch: [33][0/34]\tBatch Time 0.371 (0.371)\tData Time 0.242 (0.242)\tLoss 0.2825 (0.2825)\t\n",
      "Epoch: [34][0/34]\tBatch Time 0.324 (0.324)\tData Time 0.194 (0.194)\tLoss 0.3144 (0.3144)\t\n",
      "Epoch: [35][0/34]\tBatch Time 0.373 (0.373)\tData Time 0.236 (0.236)\tLoss 0.2691 (0.2691)\t\n",
      "Epoch: [36][0/34]\tBatch Time 0.353 (0.353)\tData Time 0.224 (0.224)\tLoss 0.2341 (0.2341)\t\n",
      "Epoch: [37][0/34]\tBatch Time 0.360 (0.360)\tData Time 0.226 (0.226)\tLoss 0.3111 (0.3111)\t\n",
      "Epoch: [38][0/34]\tBatch Time 0.370 (0.370)\tData Time 0.241 (0.241)\tLoss 0.2574 (0.2574)\t\n",
      "Epoch: [39][0/34]\tBatch Time 0.343 (0.343)\tData Time 0.210 (0.210)\tLoss 0.2883 (0.2883)\t\n",
      "Epoch: [40][0/34]\tBatch Time 0.364 (0.364)\tData Time 0.234 (0.234)\tLoss 0.2896 (0.2896)\t\n",
      "Epoch: [41][0/34]\tBatch Time 0.344 (0.344)\tData Time 0.210 (0.210)\tLoss 0.2219 (0.2219)\t\n",
      "Epoch: [42][0/34]\tBatch Time 0.341 (0.341)\tData Time 0.209 (0.209)\tLoss 0.2091 (0.2091)\t\n",
      "Epoch: [43][0/34]\tBatch Time 0.320 (0.320)\tData Time 0.193 (0.193)\tLoss 0.3706 (0.3706)\t\n",
      "Epoch: [44][0/34]\tBatch Time 0.319 (0.319)\tData Time 0.187 (0.187)\tLoss 0.2184 (0.2184)\t\n",
      "Epoch: [45][0/34]\tBatch Time 0.367 (0.367)\tData Time 0.232 (0.232)\tLoss 0.2192 (0.2192)\t\n",
      "Epoch: [46][0/34]\tBatch Time 0.373 (0.373)\tData Time 0.243 (0.243)\tLoss 0.2582 (0.2582)\t\n",
      "Epoch: [47][0/34]\tBatch Time 0.370 (0.370)\tData Time 0.240 (0.240)\tLoss 0.2508 (0.2508)\t\n",
      "Epoch: [48][0/34]\tBatch Time 0.345 (0.345)\tData Time 0.214 (0.214)\tLoss 0.2552 (0.2552)\t\n",
      "Epoch: [49][0/34]\tBatch Time 0.358 (0.358)\tData Time 0.229 (0.229)\tLoss 0.2196 (0.2196)\t\n",
      "Epoch: [50][0/34]\tBatch Time 0.370 (0.370)\tData Time 0.236 (0.236)\tLoss 0.3127 (0.3127)\t\n",
      "Epoch: [51][0/34]\tBatch Time 0.313 (0.313)\tData Time 0.188 (0.188)\tLoss 0.2657 (0.2657)\t\n",
      "Epoch: [52][0/34]\tBatch Time 0.353 (0.353)\tData Time 0.217 (0.217)\tLoss 0.2088 (0.2088)\t\n",
      "Epoch: [53][0/34]\tBatch Time 0.364 (0.364)\tData Time 0.232 (0.232)\tLoss 0.2088 (0.2088)\t\n",
      "Epoch: [54][0/34]\tBatch Time 0.330 (0.330)\tData Time 0.201 (0.201)\tLoss 0.2083 (0.2083)\t\n",
      "Epoch: [55][0/34]\tBatch Time 0.354 (0.354)\tData Time 0.221 (0.221)\tLoss 0.2344 (0.2344)\t\n",
      "Epoch: [56][0/34]\tBatch Time 0.357 (0.357)\tData Time 0.222 (0.222)\tLoss 0.2393 (0.2393)\t\n",
      "Epoch: [57][0/34]\tBatch Time 0.360 (0.360)\tData Time 0.235 (0.235)\tLoss 0.2521 (0.2521)\t\n",
      "Epoch: [58][0/34]\tBatch Time 0.332 (0.332)\tData Time 0.204 (0.204)\tLoss 0.2219 (0.2219)\t\n",
      "Epoch: [59][0/34]\tBatch Time 0.333 (0.333)\tData Time 0.200 (0.200)\tLoss 0.2094 (0.2094)\t\n",
      "Epoch: [60][0/34]\tBatch Time 0.404 (0.404)\tData Time 0.274 (0.274)\tLoss 0.2374 (0.2374)\t\n"
     ]
    },
    {
     "ename": "KeyboardInterrupt",
     "evalue": "",
     "output_type": "error",
     "traceback": [
      "\u001b[0;31m---------------------------------------------------------------------------\u001b[0m",
      "\u001b[0;31mKeyboardInterrupt\u001b[0m                         Traceback (most recent call last)",
      "File \u001b[0;32m/home/stud1/n/nelnyg22/TumorDetection/ssd_edited/train.py:191\u001b[0m, in \u001b[0;36m<module>\u001b[0;34m\u001b[0m\n\u001b[1;32m    187\u001b[0m     \u001b[38;5;28;01mdel\u001b[39;00m predicted_locs, predicted_scores, images, boxes, labels  \u001b[38;5;66;03m# free some memory since their histories may be stored\u001b[39;00m\n\u001b[1;32m    190\u001b[0m \u001b[38;5;28;01mif\u001b[39;00m \u001b[38;5;18m__name__\u001b[39m \u001b[38;5;241m==\u001b[39m \u001b[38;5;124m'\u001b[39m\u001b[38;5;124m__main__\u001b[39m\u001b[38;5;124m'\u001b[39m:\n\u001b[0;32m--> 191\u001b[0m     \u001b[43mmain\u001b[49m\u001b[43m(\u001b[49m\u001b[43m)\u001b[49m\n",
      "File \u001b[0;32m/home/stud1/n/nelnyg22/TumorDetection/ssd_edited/train.py:107\u001b[0m, in \u001b[0;36mmain\u001b[0;34m()\u001b[0m\n\u001b[1;32m    104\u001b[0m     adjust_learning_rate(optimizer, decay_lr_to)\n\u001b[1;32m    106\u001b[0m \u001b[38;5;66;03m# One epoch's training\u001b[39;00m\n\u001b[0;32m--> 107\u001b[0m \u001b[43mtrain\u001b[49m\u001b[43m(\u001b[49m\u001b[43mtrain_loader\u001b[49m\u001b[38;5;241;43m=\u001b[39;49m\u001b[43mtrain_loader\u001b[49m\u001b[43m,\u001b[49m\n\u001b[1;32m    108\u001b[0m \u001b[43m      \u001b[49m\u001b[43mmodel\u001b[49m\u001b[38;5;241;43m=\u001b[39;49m\u001b[43mmodel\u001b[49m\u001b[43m,\u001b[49m\n\u001b[1;32m    109\u001b[0m \u001b[43m      \u001b[49m\u001b[43mcriterion\u001b[49m\u001b[38;5;241;43m=\u001b[39;49m\u001b[43mcriterion\u001b[49m\u001b[43m,\u001b[49m\n\u001b[1;32m    110\u001b[0m \u001b[43m      \u001b[49m\u001b[43moptimizer\u001b[49m\u001b[38;5;241;43m=\u001b[39;49m\u001b[43moptimizer\u001b[49m\u001b[43m,\u001b[49m\n\u001b[1;32m    111\u001b[0m \u001b[43m      \u001b[49m\u001b[43mepoch\u001b[49m\u001b[38;5;241;43m=\u001b[39;49m\u001b[43mepoch\u001b[49m\u001b[43m,\u001b[49m\n\u001b[1;32m    112\u001b[0m \u001b[43m      \u001b[49m\u001b[43mvalidation_loader\u001b[49m\u001b[38;5;241;43m=\u001b[39;49m\u001b[43mvalidation_loader\u001b[49m\u001b[43m)\u001b[49m\n\u001b[1;32m    114\u001b[0m \u001b[38;5;66;03m# Save checkpoint\u001b[39;00m\n\u001b[1;32m    115\u001b[0m save_checkpoint(epoch, model, optimizer)\n",
      "File \u001b[0;32m/home/stud1/n/nelnyg22/TumorDetection/ssd_edited/train.py:162\u001b[0m, in \u001b[0;36mtrain\u001b[0;34m(train_loader, model, criterion, optimizer, epoch, validation_loader)\u001b[0m\n\u001b[1;32m    159\u001b[0m \u001b[38;5;66;03m# Update model\u001b[39;00m\n\u001b[1;32m    160\u001b[0m optimizer\u001b[38;5;241m.\u001b[39mstep()\n\u001b[0;32m--> 162\u001b[0m losses\u001b[38;5;241m.\u001b[39mupdate(\u001b[43mloss\u001b[49m\u001b[38;5;241;43m.\u001b[39;49m\u001b[43mitem\u001b[49m\u001b[43m(\u001b[49m\u001b[43m)\u001b[49m, images\u001b[38;5;241m.\u001b[39msize(\u001b[38;5;241m0\u001b[39m))\n\u001b[1;32m    163\u001b[0m batch_time\u001b[38;5;241m.\u001b[39mupdate(time\u001b[38;5;241m.\u001b[39mtime() \u001b[38;5;241m-\u001b[39m start)\n\u001b[1;32m    165\u001b[0m start \u001b[38;5;241m=\u001b[39m time\u001b[38;5;241m.\u001b[39mtime()\n",
      "\u001b[0;31mKeyboardInterrupt\u001b[0m: "
     ]
    }
   ],
   "source": [
    "%run train.py"
   ]
  },
  {
   "cell_type": "code",
   "execution_count": null,
   "id": "5d127cd8-225f-4103-9545-9e6f59846108",
   "metadata": {},
   "outputs": [],
   "source": []
  }
 ],
 "metadata": {
  "kernelspec": {
   "display_name": "Python 3 (ipykernel)",
   "language": "python",
   "name": "python3"
  },
  "language_info": {
   "codemirror_mode": {
    "name": "ipython",
    "version": 3
   },
   "file_extension": ".py",
   "mimetype": "text/x-python",
   "name": "python",
   "nbconvert_exporter": "python",
   "pygments_lexer": "ipython3",
   "version": "3.9.13"
  }
 },
 "nbformat": 4,
 "nbformat_minor": 5
}
