{
 "cells": [
  {
   "cell_type": "code",
   "execution_count": 4,
   "id": "d380ed3f-40e1-452f-a015-6b6f48d969b6",
   "metadata": {},
   "outputs": [
    {
     "name": "stdout",
     "output_type": "stream",
     "text": [
      "cpu\n"
     ]
    },
    {
     "name": "stderr",
     "output_type": "stream",
     "text": [
      "Evaluating:   0%|                                                                                                                                                           | 0/6 [00:00<?, ?it/s]/home/stud1/n/nelnyg22/TumorDetection/ssd_edited/model.py:503: UserWarning: indexing with dtype torch.uint8 is now deprecated, please use a dtype torch.bool instead. (Triggered internally at  /croot/pytorch_1669252628709/work/aten/src/ATen/native/IndexingUtils.h:27.)\n",
      "  image_boxes.append(class_decoded_locs[1 - suppress])\n",
      "/home/stud1/n/nelnyg22/TumorDetection/ssd_edited/model.py:505: UserWarning: indexing with dtype torch.uint8 is now deprecated, please use a dtype torch.bool instead. (Triggered internally at  /croot/pytorch_1669252628709/work/aten/src/ATen/native/IndexingUtils.h:27.)\n",
      "  image_scores.append(class_scores[1 - suppress])\n",
      "Evaluating: 100%|███████████████████████████████████████████████████████████████████████████████████████████████████████████████████████████████████████████████████| 6/6 [05:35<00:00, 55.95s/it]"
     ]
    },
    {
     "name": "stdout",
     "output_type": "stream",
     "text": [
      "{'T': 0.0}\n",
      "\n",
      "Mean Average Precision (mAP): 0.000\n"
     ]
    },
    {
     "name": "stderr",
     "output_type": "stream",
     "text": [
      "\n"
     ]
    }
   ],
   "source": [
    "%run eval.py"
   ]
  },
  {
   "cell_type": "code",
   "execution_count": null,
   "id": "ec95e664-5e13-4ebc-bbe5-0844541d4f21",
   "metadata": {},
   "outputs": [],
   "source": []
  }
 ],
 "metadata": {
  "kernelspec": {
   "display_name": "Python 3 (ipykernel)",
   "language": "python",
   "name": "python3"
  },
  "language_info": {
   "codemirror_mode": {
    "name": "ipython",
    "version": 3
   },
   "file_extension": ".py",
   "mimetype": "text/x-python",
   "name": "python",
   "nbconvert_exporter": "python",
   "pygments_lexer": "ipython3",
   "version": "3.9.13"
  }
 },
 "nbformat": 4,
 "nbformat_minor": 5
}
