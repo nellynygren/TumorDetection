{
 "cells": [
  {
   "cell_type": "code",
   "execution_count": 2,
   "id": "d380ed3f-40e1-452f-a015-6b6f48d969b6",
   "metadata": {},
   "outputs": [
    {
     "name": "stdout",
     "output_type": "stream",
     "text": [
      "cuda\n"
     ]
    },
    {
     "name": "stderr",
     "output_type": "stream",
     "text": [
      "Evaluating:   0%|                                                                                                                                                         | 0/15 [00:18<?, ?it/s]\n"
     ]
    },
    {
     "ename": "KeyboardInterrupt",
     "evalue": "",
     "output_type": "error",
     "traceback": [
      "\u001b[0;31m---------------------------------------------------------------------------\u001b[0m",
      "\u001b[0;31mKeyboardInterrupt\u001b[0m                         Traceback (most recent call last)",
      "File \u001b[0;32m/home/stud1/n/nelnyg22/TumorDetection/ssd_edited/eval.py:138\u001b[0m, in \u001b[0;36m<module>\u001b[0;34m\u001b[0m\n\u001b[1;32m    133\u001b[0m             ax\u001b[38;5;241m.\u001b[39madd_patch(bb_plot)\n\u001b[1;32m    137\u001b[0m \u001b[38;5;28;01mif\u001b[39;00m \u001b[38;5;18m__name__\u001b[39m \u001b[38;5;241m==\u001b[39m \u001b[38;5;124m'\u001b[39m\u001b[38;5;124m__main__\u001b[39m\u001b[38;5;124m'\u001b[39m:\n\u001b[0;32m--> 138\u001b[0m     \u001b[43mevaluate\u001b[49m\u001b[43m(\u001b[49m\u001b[43mtest_loader\u001b[49m\u001b[43m,\u001b[49m\u001b[43m \u001b[49m\u001b[43mmodel\u001b[49m\u001b[43m)\u001b[49m\n\u001b[1;32m    139\u001b[0m     plot_batch(test_loader, model)\n",
      "File \u001b[0;32m/home/stud1/n/nelnyg22/TumorDetection/ssd_edited/eval.py:69\u001b[0m, in \u001b[0;36mevaluate\u001b[0;34m(test_loader, model)\u001b[0m\n\u001b[1;32m     66\u001b[0m predicted_locs, predicted_scores \u001b[38;5;241m=\u001b[39m model(images)\n\u001b[1;32m     68\u001b[0m \u001b[38;5;66;03m# Detect objects in SSD output\u001b[39;00m\n\u001b[0;32m---> 69\u001b[0m det_boxes_batch, det_labels_batch, det_scores_batch \u001b[38;5;241m=\u001b[39m \u001b[43mmodel\u001b[49m\u001b[38;5;241;43m.\u001b[39;49m\u001b[43mdetect_objects\u001b[49m\u001b[43m(\u001b[49m\u001b[43mpredicted_locs\u001b[49m\u001b[43m,\u001b[49m\u001b[43m \u001b[49m\u001b[43mpredicted_scores\u001b[49m\u001b[43m,\u001b[49m\n\u001b[1;32m     70\u001b[0m \u001b[43m                                                                           \u001b[49m\u001b[43mmin_score\u001b[49m\u001b[38;5;241;43m=\u001b[39;49m\u001b[38;5;241;43m0.01\u001b[39;49m\u001b[43m,\u001b[49m\u001b[43m \u001b[49m\u001b[43mmax_overlap\u001b[49m\u001b[38;5;241;43m=\u001b[39;49m\u001b[38;5;241;43m0.45\u001b[39;49m\u001b[43m,\u001b[49m\n\u001b[1;32m     71\u001b[0m \u001b[43m                                                                           \u001b[49m\u001b[43mtop_k\u001b[49m\u001b[38;5;241;43m=\u001b[39;49m\u001b[38;5;241;43m200\u001b[39;49m\u001b[43m)\u001b[49m\n\u001b[1;32m     72\u001b[0m \u001b[38;5;66;03m# Evaluation MUST be at min_score=0.01, max_overlap=0.45, top_k=200 for fair comparision with the paper's results and other repos\u001b[39;00m\n\u001b[1;32m     73\u001b[0m \n\u001b[1;32m     74\u001b[0m \u001b[38;5;66;03m# Store this batch's results for mAP calculation\u001b[39;00m\n\u001b[1;32m     75\u001b[0m boxes \u001b[38;5;241m=\u001b[39m [b\u001b[38;5;241m.\u001b[39mto(device) \u001b[38;5;28;01mfor\u001b[39;00m b \u001b[38;5;129;01min\u001b[39;00m boxes]\n",
      "File \u001b[0;32m/home/stud1/n/nelnyg22/TumorDetection/ssd_edited/model.py:490\u001b[0m, in \u001b[0;36mSSD300.detect_objects\u001b[0;34m(self, predicted_locs, predicted_scores, min_score, max_overlap, top_k)\u001b[0m\n\u001b[1;32m    487\u001b[0m \u001b[38;5;66;03m# Consider each box in order of decreasing scores\u001b[39;00m\n\u001b[1;32m    488\u001b[0m \u001b[38;5;28;01mfor\u001b[39;00m box \u001b[38;5;129;01min\u001b[39;00m \u001b[38;5;28mrange\u001b[39m(class_decoded_locs\u001b[38;5;241m.\u001b[39msize(\u001b[38;5;241m0\u001b[39m)):\n\u001b[1;32m    489\u001b[0m     \u001b[38;5;66;03m# If this box is already marked for suppression\u001b[39;00m\n\u001b[0;32m--> 490\u001b[0m     \u001b[38;5;28;01mif\u001b[39;00m suppress[box] \u001b[38;5;241m==\u001b[39m \u001b[38;5;241m1\u001b[39m:\n\u001b[1;32m    491\u001b[0m         \u001b[38;5;28;01mcontinue\u001b[39;00m\n\u001b[1;32m    493\u001b[0m     \u001b[38;5;66;03m# Suppress boxes whose overlaps (with this box) are greater than maximum overlap\u001b[39;00m\n\u001b[1;32m    494\u001b[0m     \u001b[38;5;66;03m# Find such boxes and update suppress indices\u001b[39;00m\n",
      "\u001b[0;31mKeyboardInterrupt\u001b[0m: "
     ]
    }
   ],
   "source": [
    "%run eval.py"
   ]
  },
  {
   "cell_type": "code",
   "execution_count": null,
   "id": "ec95e664-5e13-4ebc-bbe5-0844541d4f21",
   "metadata": {},
   "outputs": [],
   "source": []
  }
 ],
 "metadata": {
  "kernelspec": {
   "display_name": "Python 3 (ipykernel)",
   "language": "python",
   "name": "python3"
  },
  "language_info": {
   "codemirror_mode": {
    "name": "ipython",
    "version": 3
   },
   "file_extension": ".py",
   "mimetype": "text/x-python",
   "name": "python",
   "nbconvert_exporter": "python",
   "pygments_lexer": "ipython3",
   "version": "3.9.13"
  }
 },
 "nbformat": 4,
 "nbformat_minor": 5
}
