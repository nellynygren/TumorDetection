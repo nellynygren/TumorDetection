{
 "cells": [
  {
   "cell_type": "code",
   "execution_count": null,
   "id": "318e13df-7915-4f7c-a437-87127467bfc9",
   "metadata": {},
   "outputs": [
    {
     "name": "stdout",
     "output_type": "stream",
     "text": [
      "cuda\n",
      "\n",
      "Loaded base model.\n",
      "\n"
     ]
    },
    {
     "name": "stderr",
     "output_type": "stream",
     "text": [
      "/data/home/nelnyg22/deeplearn/lib/python3.9/site-packages/torch/nn/_reduction.py:42: UserWarning: size_average and reduce args will be deprecated, please use reduction='none' instead.\n",
      "  warnings.warn(warning.format(ret))\n"
     ]
    },
    {
     "name": "stdout",
     "output_type": "stream",
     "text": [
      "Epoch: [0][0/14]\tBatch Time 31.826 (31.826)\tData Time 0.352 (0.352)\tLoss 1.3383 (1.3383)\tVal loss 1.4814\t\n",
      "Saved checkpoint\n",
      "Epoch: [1][0/14]\tBatch Time 2.802 (2.802)\tData Time 0.370 (0.370)\tLoss 1.1496 (1.1496)\tVal loss 1.3466\t\n",
      "Saved checkpoint\n",
      "Epoch: [2][0/14]\tBatch Time 2.868 (2.868)\tData Time 0.403 (0.403)\tLoss 1.0592 (1.0592)\tVal loss 1.2879\t\n",
      "Saved checkpoint\n",
      "Epoch: [3][0/14]\tBatch Time 2.900 (2.900)\tData Time 0.445 (0.445)\tLoss 0.9343 (0.9343)\tVal loss 1.2415\t\n",
      "Saved checkpoint\n",
      "Epoch: [4][0/14]\tBatch Time 2.876 (2.876)\tData Time 0.409 (0.409)\tLoss 0.8903 (0.8903)\tVal loss 1.2187\t\n",
      "Saved checkpoint\n",
      "Epoch: [5][0/14]\tBatch Time 12.069 (12.069)\tData Time 8.120 (8.120)\tLoss 0.8989 (0.8989)\tVal loss 1.2092\t\n",
      "Saved checkpoint\n",
      "Epoch: [6][0/14]\tBatch Time 2.803 (2.803)\tData Time 0.380 (0.380)\tLoss 0.8644 (0.8644)\tVal loss 1.2051\t\n",
      "Saved checkpoint\n",
      "Epoch: [7][0/14]\tBatch Time 2.858 (2.858)\tData Time 0.427 (0.427)\tLoss 0.8285 (0.8285)\tVal loss 1.1998\t\n",
      "Saved checkpoint\n",
      "Epoch: [8][0/14]\tBatch Time 2.943 (2.943)\tData Time 0.521 (0.521)\tLoss 0.6943 (0.6943)\tVal loss 1.1965\t\n",
      "Saved checkpoint\n",
      "Epoch: [9][0/14]\tBatch Time 2.870 (2.870)\tData Time 0.397 (0.397)\tLoss 0.6692 (0.6692)\tVal loss 1.1938\t\n",
      "Saved checkpoint\n",
      "Epoch: [10][0/14]\tBatch Time 2.945 (2.945)\tData Time 0.502 (0.502)\tLoss 0.7461 (0.7461)\tVal loss 1.1902\t\n",
      "Saved checkpoint\n",
      "Epoch: [11][0/14]\tBatch Time 2.788 (2.788)\tData Time 0.337 (0.337)\tLoss 0.7821 (0.7821)\tVal loss 1.1973\t\n"
     ]
    }
   ],
   "source": [
    "%run train.py"
   ]
  },
  {
   "cell_type": "code",
   "execution_count": null,
   "id": "c58ed1ef-5703-4bb1-b90b-963649be7b8a",
   "metadata": {},
   "outputs": [],
   "source": []
  },
  {
   "cell_type": "code",
   "execution_count": null,
   "id": "5d127cd8-225f-4103-9545-9e6f59846108",
   "metadata": {},
   "outputs": [],
   "source": []
  }
 ],
 "metadata": {
  "kernelspec": {
   "display_name": "Python 3 (ipykernel)",
   "language": "python",
   "name": "python3"
  },
  "language_info": {
   "codemirror_mode": {
    "name": "ipython",
    "version": 3
   },
   "file_extension": ".py",
   "mimetype": "text/x-python",
   "name": "python",
   "nbconvert_exporter": "python",
   "pygments_lexer": "ipython3",
   "version": "3.9.13"
  }
 },
 "nbformat": 4,
 "nbformat_minor": 5
}
