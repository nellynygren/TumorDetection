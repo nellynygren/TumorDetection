{
 "cells": [
  {
   "cell_type": "code",
   "execution_count": null,
   "id": "318e13df-7915-4f7c-a437-87127467bfc9",
   "metadata": {},
   "outputs": [
    {
     "name": "stdout",
     "output_type": "stream",
     "text": [
      "cpu\n",
      "\n",
      "Loaded base model.\n",
      "\n",
      "Starting training\n",
      "batch\n",
      "batch\n",
      "batch\n",
      "batch\n",
      "batch\n",
      "batch\n",
      "batch\n",
      "batch\n",
      "Train data done, starting validation\n",
      "Improved validation loss - Saved checkpoint!\n",
      "Validation data done\n",
      "Epoch: [0][7/8]\tBatch Time 2.776 (24.914)\tData Time 0.014 (0.617)\tLoss 2.8771 (4.5147)\tVal loss 2.2659\t\n",
      "Starting training\n",
      "batch\n",
      "batch\n"
     ]
    }
   ],
   "source": [
    "%run train.py"
   ]
  },
  {
   "cell_type": "code",
   "execution_count": null,
   "id": "64155f9f-eb98-4551-aab2-287454c7839b",
   "metadata": {},
   "outputs": [],
   "source": []
  }
 ],
 "metadata": {
  "kernelspec": {
   "display_name": "Python 3 (ipykernel)",
   "language": "python",
   "name": "python3"
  },
  "language_info": {
   "codemirror_mode": {
    "name": "ipython",
    "version": 3
   },
   "file_extension": ".py",
   "mimetype": "text/x-python",
   "name": "python",
   "nbconvert_exporter": "python",
   "pygments_lexer": "ipython3",
   "version": "3.9.13"
  }
 },
 "nbformat": 4,
 "nbformat_minor": 5
}
