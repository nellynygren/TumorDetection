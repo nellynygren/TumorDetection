{
 "cells": [
  {
   "cell_type": "code",
   "execution_count": 1,
   "id": "318e13df-7915-4f7c-a437-87127467bfc9",
   "metadata": {},
   "outputs": [
    {
     "name": "stdout",
     "output_type": "stream",
     "text": [
      "cuda\n",
      "\n",
      "Loaded base model.\n",
      "\n"
     ]
    },
    {
     "name": "stderr",
     "output_type": "stream",
     "text": [
      "/data/home/nelnyg22/deeplearn/lib/python3.9/site-packages/torch/nn/_reduction.py:42: UserWarning: size_average and reduce args will be deprecated, please use reduction='none' instead.\n",
      "  warnings.warn(warning.format(ret))\n",
      "/home/stud1/n/nelnyg22/TumorDetection/ssd_edited/model.py:503: UserWarning: indexing with dtype torch.uint8 is now deprecated, please use a dtype torch.bool instead. (Triggered internally at  /opt/conda/conda-bld/pytorch_1659484806139/work/aten/src/ATen/native/IndexingUtils.h:27.)\n",
      "  image_boxes.append(class_decoded_locs[1 - suppress])\n",
      "/home/stud1/n/nelnyg22/TumorDetection/ssd_edited/model.py:505: UserWarning: indexing with dtype torch.uint8 is now deprecated, please use a dtype torch.bool instead. (Triggered internally at  /opt/conda/conda-bld/pytorch_1659484806139/work/aten/src/ATen/native/IndexingUtils.h:27.)\n",
      "  image_scores.append(class_scores[1 - suppress])\n"
     ]
    },
    {
     "name": "stdout",
     "output_type": "stream",
     "text": [
      "Epoch: [0][13/14]\tBatch Time 11.197 (4.716)\tData Time 0.000 (0.039)\tLoss 2.3122 (2.5250)\tVal loss 2.3844\tMAP: 0.01\n",
      "Saved checkpoint\n",
      "Epoch: [1][13/14]\tBatch Time 1.128 (3.314)\tData Time 0.000 (0.625)\tLoss 2.0829 (2.2138)\tVal loss 2.2152\tMAP: 0.00\n",
      "Saved checkpoint\n",
      "Epoch: [2][13/14]\tBatch Time 1.109 (2.398)\tData Time 0.000 (0.027)\tLoss 1.7690 (1.9634)\tVal loss 1.9492\tMAP: 0.00\n",
      "Saved checkpoint\n",
      "Epoch: [3][13/14]\tBatch Time 1.107 (4.119)\tData Time 0.000 (0.624)\tLoss 1.8064 (1.7707)\tVal loss 1.8056\tMAP: 0.00\n",
      "Saved checkpoint\n",
      "Epoch: [4][13/14]\tBatch Time 1.116 (2.400)\tData Time 0.000 (0.039)\tLoss 1.4970 (1.6288)\tVal loss 1.6845\tMAP: 0.00\n",
      "Saved checkpoint\n",
      "Epoch: [5][13/14]\tBatch Time 1.126 (4.419)\tData Time 0.000 (0.451)\tLoss 1.5314 (1.5382)\tVal loss 1.6804\tMAP: 0.00\n",
      "Saved checkpoint\n",
      "Epoch: [6][13/14]\tBatch Time 1.115 (2.396)\tData Time 0.000 (0.034)\tLoss 1.5012 (1.4970)\tVal loss 1.6400\tMAP: 0.00\n",
      "Saved checkpoint\n",
      "Epoch: [7][13/14]\tBatch Time 1.102 (2.846)\tData Time 0.000 (0.027)\tLoss 1.4637 (1.4695)\tVal loss 1.5963\tMAP: 0.00\n",
      "Saved checkpoint\n",
      "Epoch: [8][13/14]\tBatch Time 1.126 (2.398)\tData Time 0.000 (0.032)\tLoss 1.5312 (1.4505)\tVal loss 1.6301\tMAP: 0.00\n",
      "Saved checkpoint\n"
     ]
    },
    {
     "ename": "KeyboardInterrupt",
     "evalue": "",
     "output_type": "error",
     "traceback": [
      "\u001b[0;31m---------------------------------------------------------------------------\u001b[0m",
      "\u001b[0;31mKeyboardInterrupt\u001b[0m                         Traceback (most recent call last)",
      "File \u001b[0;32m/home/stud1/n/nelnyg22/TumorDetection/ssd_edited/train.py:256\u001b[0m, in \u001b[0;36m<module>\u001b[0;34m\u001b[0m\n\u001b[1;32m    251\u001b[0m     \u001b[38;5;28;01mdel\u001b[39;00m images, boxes, labels\n\u001b[1;32m    255\u001b[0m \u001b[38;5;28;01mif\u001b[39;00m \u001b[38;5;18m__name__\u001b[39m \u001b[38;5;241m==\u001b[39m \u001b[38;5;124m'\u001b[39m\u001b[38;5;124m__main__\u001b[39m\u001b[38;5;124m'\u001b[39m:\n\u001b[0;32m--> 256\u001b[0m     \u001b[43mmain\u001b[49m\u001b[43m(\u001b[49m\u001b[43m)\u001b[49m\n",
      "File \u001b[0;32m/home/stud1/n/nelnyg22/TumorDetection/ssd_edited/train.py:113\u001b[0m, in \u001b[0;36mmain\u001b[0;34m()\u001b[0m\n\u001b[1;32m    110\u001b[0m     adjust_learning_rate(optimizer, decay_lr_to)\n\u001b[1;32m    112\u001b[0m \u001b[38;5;66;03m# One epoch's training\u001b[39;00m\n\u001b[0;32m--> 113\u001b[0m \u001b[43mtrain\u001b[49m\u001b[43m(\u001b[49m\u001b[43mtrain_loader\u001b[49m\u001b[38;5;241;43m=\u001b[39;49m\u001b[43mtrain_loader\u001b[49m\u001b[43m,\u001b[49m\n\u001b[1;32m    114\u001b[0m \u001b[43m      \u001b[49m\u001b[43mmodel\u001b[49m\u001b[38;5;241;43m=\u001b[39;49m\u001b[43mmodel\u001b[49m\u001b[43m,\u001b[49m\n\u001b[1;32m    115\u001b[0m \u001b[43m      \u001b[49m\u001b[43mcriterion\u001b[49m\u001b[38;5;241;43m=\u001b[39;49m\u001b[43mcriterion\u001b[49m\u001b[43m,\u001b[49m\n\u001b[1;32m    116\u001b[0m \u001b[43m      \u001b[49m\u001b[43moptimizer\u001b[49m\u001b[38;5;241;43m=\u001b[39;49m\u001b[43moptimizer\u001b[49m\u001b[43m,\u001b[49m\n\u001b[1;32m    117\u001b[0m \u001b[43m      \u001b[49m\u001b[43mepoch\u001b[49m\u001b[38;5;241;43m=\u001b[39;49m\u001b[43mepoch\u001b[49m\u001b[43m,\u001b[49m\n\u001b[1;32m    118\u001b[0m \u001b[43m      \u001b[49m\u001b[43mvalidation_loader\u001b[49m\u001b[38;5;241;43m=\u001b[39;49m\u001b[43mvalidation_loader\u001b[49m\u001b[43m,\u001b[49m\n\u001b[1;32m    119\u001b[0m \u001b[43m      \u001b[49m\u001b[43mlen_validation_dataset\u001b[49m\u001b[43m \u001b[49m\u001b[38;5;241;43m=\u001b[39;49m\u001b[43m \u001b[49m\u001b[43mlen_validation_dataset\u001b[49m\u001b[43m)\u001b[49m\n\u001b[1;32m    121\u001b[0m \u001b[38;5;66;03m# Save checkpoint\u001b[39;00m\n\u001b[1;32m    122\u001b[0m save_checkpoint(epoch, model, optimizer)\n",
      "File \u001b[0;32m/home/stud1/n/nelnyg22/TumorDetection/ssd_edited/train.py:214\u001b[0m, in \u001b[0;36mtrain\u001b[0;34m(train_loader, model, criterion, optimizer, epoch, validation_loader, len_validation_dataset)\u001b[0m\n\u001b[1;32m    212\u001b[0m \u001b[38;5;66;03m# Calculate accuracy metric for this batch\u001b[39;00m\n\u001b[1;32m    213\u001b[0m model\u001b[38;5;241m.\u001b[39meval()\n\u001b[0;32m--> 214\u001b[0m val_det_boxes_batch, val_det_labels_batch, val_det_scores_batch \u001b[38;5;241m=\u001b[39m \u001b[43mmodel\u001b[49m\u001b[38;5;241;43m.\u001b[39;49m\u001b[43mdetect_objects\u001b[49m\u001b[43m(\u001b[49m\u001b[43mpredicted_locs_val\u001b[49m\u001b[43m,\u001b[49m\u001b[43m \u001b[49m\u001b[43mpredicted_scores_val\u001b[49m\u001b[43m,\u001b[49m\n\u001b[1;32m    215\u001b[0m \u001b[43m                                                                       \u001b[49m\u001b[43mmin_score\u001b[49m\u001b[38;5;241;43m=\u001b[39;49m\u001b[38;5;241;43m0.01\u001b[39;49m\u001b[43m,\u001b[49m\u001b[43m \u001b[49m\u001b[43mmax_overlap\u001b[49m\u001b[38;5;241;43m=\u001b[39;49m\u001b[38;5;241;43m0.45\u001b[39;49m\u001b[43m,\u001b[49m\n\u001b[1;32m    216\u001b[0m \u001b[43m                                                                       \u001b[49m\u001b[43mtop_k\u001b[49m\u001b[38;5;241;43m=\u001b[39;49m\u001b[38;5;241;43m200\u001b[39;49m\u001b[43m)\u001b[49m\n\u001b[1;32m    217\u001b[0m val_APs_batch, val_mAP_batch \u001b[38;5;241m=\u001b[39m calculate_mAP(val_det_boxes_batch, val_det_labels_batch, val_det_scores_batch, boxes_val, labels_val, difficulties_val)\n\u001b[1;32m    219\u001b[0m val_mAP\u001b[38;5;241m.\u001b[39mupdate(val_mAP_batch)\n",
      "File \u001b[0;32m/home/stud1/n/nelnyg22/TumorDetection/ssd_edited/model.py:491\u001b[0m, in \u001b[0;36mSSD300.detect_objects\u001b[0;34m(self, predicted_locs, predicted_scores, min_score, max_overlap, top_k)\u001b[0m\n\u001b[1;32m    488\u001b[0m \u001b[38;5;66;03m# Consider each box in order of decreasing scores\u001b[39;00m\n\u001b[1;32m    489\u001b[0m \u001b[38;5;28;01mfor\u001b[39;00m box \u001b[38;5;129;01min\u001b[39;00m \u001b[38;5;28mrange\u001b[39m(class_decoded_locs\u001b[38;5;241m.\u001b[39msize(\u001b[38;5;241m0\u001b[39m)):\n\u001b[1;32m    490\u001b[0m     \u001b[38;5;66;03m# If this box is already marked for suppression\u001b[39;00m\n\u001b[0;32m--> 491\u001b[0m     \u001b[38;5;28;01mif\u001b[39;00m suppress[box] \u001b[38;5;241m==\u001b[39m \u001b[38;5;241m1\u001b[39m:\n\u001b[1;32m    492\u001b[0m         \u001b[38;5;28;01mcontinue\u001b[39;00m\n\u001b[1;32m    494\u001b[0m     \u001b[38;5;66;03m# Suppress boxes whose overlaps (with this box) are greater than maximum overlap\u001b[39;00m\n\u001b[1;32m    495\u001b[0m     \u001b[38;5;66;03m# Find such boxes and update suppress indices\u001b[39;00m\n",
      "\u001b[0;31mKeyboardInterrupt\u001b[0m: "
     ]
    }
   ],
   "source": [
    "%run train.py"
   ]
  },
  {
   "cell_type": "code",
   "execution_count": null,
   "id": "64155f9f-eb98-4551-aab2-287454c7839b",
   "metadata": {},
   "outputs": [],
   "source": []
  }
 ],
 "metadata": {
  "kernelspec": {
   "display_name": "Python 3 (ipykernel)",
   "language": "python",
   "name": "python3"
  },
  "language_info": {
   "codemirror_mode": {
    "name": "ipython",
    "version": 3
   },
   "file_extension": ".py",
   "mimetype": "text/x-python",
   "name": "python",
   "nbconvert_exporter": "python",
   "pygments_lexer": "ipython3",
   "version": "3.9.13"
  }
 },
 "nbformat": 4,
 "nbformat_minor": 5
}
